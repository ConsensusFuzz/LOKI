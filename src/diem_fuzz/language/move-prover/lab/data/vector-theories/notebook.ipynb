{
 "cells": [
  {
   "cell_type": "markdown",
   "id": "streaming-dallas",
   "metadata": {},
   "source": [
    "# Benchmarking multiple vector theories   \n",
    "\n",
    "This notebook compares the following vector theories (sources in ./boogie-backend/prelude):\n",
    "\n",
    "- BoogieArray: this is currently the default vector theory used in the Move Prover. It is based on Boogie Arrays (in contrast to native SMT arrays) and does not support extensional equality.\n",
    "- SmtArray: this is a vector theory using SMT native arrays, without support for extensional equality.\n",
    "- SmtArrayExt: this is a vector theory using SMT native arrays, with added axioms to ensure extensional equality.\n",
    "\n",
    "## Preparation\n",
    "\n",
    "Load the prover-lab crate. This may take *long* (minutes) the first time the Jupyter server is started because it compiles a lot  Rust sources."
   ]
  },
  {
   "cell_type": "code",
   "execution_count": null,
   "id": "legitimate-functionality",
   "metadata": {
    "tags": []
   },
   "outputs": [],
   "source": [
    ":sccache 1\n",
    ":dep prover-lab = { path = \"../..\" }"
   ]
  },
  {
   "cell_type": "markdown",
   "id": "above-agency",
   "metadata": {},
   "source": [
    "Make functions from the benchmark module available:"
   ]
  },
  {
   "cell_type": "code",
   "execution_count": null,
   "id": "foster-reynolds",
   "metadata": {},
   "outputs": [],
   "source": [
    "use prover_lab::benchmark::*;"
   ]
  },
  {
   "cell_type": "markdown",
   "id": "monetary-injury",
   "metadata": {},
   "source": [
    "## Module Verification Time\n"
   ]
  },
  {
   "cell_type": "markdown",
   "id": "pending-crossing",
   "metadata": {},
   "source": [
    "Overall module verification times (excluding timeouts):"
   ]
  },
  {
   "cell_type": "code",
   "execution_count": null,
   "id": "institutional-timothy",
   "metadata": {},
   "outputs": [],
   "source": [
    "let mut boogie_array_mod_benchmark = read_benchmark(\"boogie_array.mod_data\")?;\n",
    "let mut smt_array_mod_benchmark = read_benchmark(\"smt_array.mod_data\")?;\n",
    "let mut smt_array_ext_mod_benchmark = read_benchmark(\"smt_array_ext.mod_data\")?;\n",
    "stats_benchmarks(&[&boogie_array_mod_benchmark, &smt_array_mod_benchmark, &smt_array_ext_mod_benchmark])"
   ]
  },
  {
   "cell_type": "markdown",
   "id": "bizarre-tuner",
   "metadata": {},
   "source": [
    "Runtimes on module basis:"
   ]
  },
  {
   "cell_type": "code",
   "execution_count": null,
   "id": "collect-powell",
   "metadata": {},
   "outputs": [],
   "source": [
    "boogie_array_mod_benchmark.sort(); // Will also determine order of other samples.\n",
    "plot_benchmarks(&[&boogie_array_mod_benchmark, &smt_array_mod_benchmark, &smt_array_ext_mod_benchmark])"
   ]
  },
  {
   "cell_type": "markdown",
   "id": "bronze-fleece",
   "metadata": {},
   "source": [
    "## Top 20 by Function"
   ]
  },
  {
   "cell_type": "code",
   "execution_count": null,
   "id": "offensive-buying",
   "metadata": {},
   "outputs": [],
   "source": [
    "let mut boogie_array_fun_benchmark = read_benchmark(\"boogie_array.fun_data\")?;\n",
    "let mut smt_array_fun_benchmark = read_benchmark(\"smt_array.fun_data\")?;\n",
    "let mut smt_array_ext_fun_benchmark = read_benchmark(\"smt_array_ext.fun_data\")?;\n",
    "boogie_array_fun_benchmark.sort();\n",
    "boogie_array_fun_benchmark.take(20);\n",
    "plot_benchmarks(&[&boogie_array_fun_benchmark, &smt_array_fun_benchmark, &smt_array_ext_fun_benchmark])"
   ]
  },
  {
   "cell_type": "code",
   "execution_count": null,
   "id": "modular-agreement",
   "metadata": {},
   "outputs": [],
   "source": []
  }
 ],
 "metadata": {
  "kernelspec": {
   "display_name": "Rust",
   "language": "rust",
   "name": "rust"
  },
  "language_info": {
   "codemirror_mode": "rust",
   "file_extension": ".rs",
   "mimetype": "text/rust",
   "name": "Rust",
   "pygment_lexer": "rust",
   "version": ""
  }
 },
 "nbformat": 4,
 "nbformat_minor": 5
}
