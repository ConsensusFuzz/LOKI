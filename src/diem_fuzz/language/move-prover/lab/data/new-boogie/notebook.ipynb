{
 "cells": [
  {
   "cell_type": "markdown",
   "id": "thermal-nickel",
   "metadata": {},
   "source": [
    "# Benchmarking current vs alternative version of Boogie\n",
    "\n",
    "This compares the current version of Boogie with a an alternative, newer one.\n",
    "\n",
    "In the current instance, we are comparing Boogie 2.8.31 with the head version in which *zero weights are used for array axioms*. The comparison uses the new monomorphized Boogie backend. There is a ~10% improvement visible from the benchmarks. While some verification problems take longer, overall verification time is reduced.\n",
    "\n",
    "## Preparation\n",
    "\n",
    "Load the prover-lab crate. This may take *long* (minutes) the first time the Jupyter server is started because it compiles a lot  Rust sources."
   ]
  },
  {
   "cell_type": "code",
   "execution_count": null,
   "id": "legitimate-smoke",
   "metadata": {
    "tags": []
   },
   "outputs": [],
   "source": [
    ":sccache 1\n",
    ":dep prover-lab = { path = \"../..\" }"
   ]
  },
  {
   "cell_type": "markdown",
   "id": "steady-fence",
   "metadata": {},
   "source": [
    "Make functions from the benchmark module available:"
   ]
  },
  {
   "cell_type": "code",
   "execution_count": null,
   "id": "geographic-eligibility",
   "metadata": {},
   "outputs": [],
   "source": [
    "use prover_lab::benchmark::*;"
   ]
  },
  {
   "cell_type": "markdown",
   "id": "primary-expert",
   "metadata": {},
   "source": [
    "## Module Verification Time\n",
    "\n",
    "In overall verification time for all Diem modules, zero-weight does about 10% better:"
   ]
  },
  {
   "cell_type": "code",
   "execution_count": null,
   "id": "japanese-queens",
   "metadata": {},
   "outputs": [],
   "source": [
    "let mut current_mod = read_benchmark(\"current_boogie.mod_data\")?;\n",
    "let mut new_mod = read_benchmark(\"new_boogie.mod_data\")?;\n",
    "stats_benchmarks(&[&current_mod, &new_mod])"
   ]
  },
  {
   "cell_type": "markdown",
   "id": "stuffed-stable",
   "metadata": {},
   "source": [
    "However, per module it appears that some of the more notrious difficult problems like DiemAccount takes longer. The advantage seems to be in speeding up simpler problems:"
   ]
  },
  {
   "cell_type": "code",
   "execution_count": null,
   "id": "proper-proposal",
   "metadata": {},
   "outputs": [],
   "source": [
    "current_mod.sort(); // Will also determine order of other samples.\n",
    "plot_benchmarks(&[&current_mod, &new_mod])"
   ]
  },
  {
   "cell_type": "markdown",
   "id": "difficult-liability",
   "metadata": {},
   "source": [
    "## Top 20 by Function"
   ]
  },
  {
   "cell_type": "code",
   "execution_count": null,
   "id": "southwest-immunology",
   "metadata": {},
   "outputs": [],
   "source": [
    "let mut current_fun = read_benchmark(\"current_boogie.fun_data\")?;\n",
    "let mut new_fun = read_benchmark(\"new_boogie.fun_data\")?;\n",
    "current_fun.sort(); // Will also determine order of other samples.\n",
    "current_fun.take(20);\n",
    "plot_benchmarks(&[&current_fun, &new_fun])"
   ]
  },
  {
   "cell_type": "code",
   "execution_count": null,
   "id": "banner-beaver",
   "metadata": {},
   "outputs": [],
   "source": []
  }
 ],
 "metadata": {
  "kernelspec": {
   "display_name": "Rust",
   "language": "rust",
   "name": "rust"
  },
  "language_info": {
   "codemirror_mode": "rust",
   "file_extension": ".rs",
   "mimetype": "text/rust",
   "name": "Rust",
   "pygment_lexer": "rust",
   "version": ""
  }
 },
 "nbformat": 4,
 "nbformat_minor": 5
}
