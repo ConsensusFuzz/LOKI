{
 "cells": [
  {
   "cell_type": "markdown",
   "id": "falling-approval",
   "metadata": {},
   "source": [
    "# Benchmarking polymorphic vs monomorphic encoding\n",
    "\n",
    "This notebook compares two different backend version. In the traditional polymorphic one, a universal domain `$Value` is used which is the union of all possible values. Structs are represented as `Vec $Value`. For generic values, `$Value` is used, otherwise the unboxed representation wherever this is possible (non-generic parameters and locals). Equality over `$Value` is available and uses stratification to bound the recursion depth.\n",
    "\n",
    "The monomorphic backend encoding differs as follows:\n",
    "- Structs are represented as ADTs.  Structs and vectors are specialized for all type instaniations found in the program. This also means that equality is specialized and does not require stratification any longer. Specification functions are specialized as well. \n",
    "- Memory is specialized. We now access memory via a single address index as the type index is compiled away.\n",
    "- Mutations are strongly typed as `$Mutation T`. This assumes strong edges for write-back.\n",
    "- We verify a generic function (and the memory it uses) by declaring the type parameters as global given types. The conjecture here is that if verification succeeds for this, it will also succeed for every instantiation (parametric polymorphism). This probably likely needs a more formal proof down the road.\n",
    "- For inlined functions, we generate specialized versions for instantiations on the call site. For calls to opaque functions, we specialize the pre and post conditions at the caller side and insert them there."
   ]
  },
  {
   "cell_type": "code",
   "execution_count": null,
   "id": "sensitive-venture",
   "metadata": {
    "tags": []
   },
   "outputs": [],
   "source": [
    ":sccache 1\n",
    ":dep prover-lab = { path = \"../..\" }"
   ]
  },
  {
   "cell_type": "markdown",
   "id": "connected-maker",
   "metadata": {},
   "source": [
    "Make functions from the benchmark module available:"
   ]
  },
  {
   "cell_type": "code",
   "execution_count": null,
   "id": "closed-boundary",
   "metadata": {},
   "outputs": [],
   "source": [
    "use prover_lab::benchmark::*;"
   ]
  },
  {
   "cell_type": "markdown",
   "id": "spare-freeware",
   "metadata": {},
   "source": [
    "## Module Verification Time\n",
    "\n",
    "This compares module by module verification wall-to-wall times, single core. Notice that functions which timeout verification are excluded.\n",
    "\n",
    "Overall, verification times compare as follows:\n"
   ]
  },
  {
   "cell_type": "code",
   "execution_count": null,
   "id": "demanding-karaoke",
   "metadata": {},
   "outputs": [],
   "source": [
    "let mut poly_mod = read_benchmark(\"poly_backend.mod_data\")?;\n",
    "let mut mono_mod = read_benchmark(\"mono_backend.mod_data\")?;\n",
    "stats_benchmarks(&[&poly_mod, &mono_mod])"
   ]
  },
  {
   "cell_type": "markdown",
   "id": "increasing-control",
   "metadata": {},
   "source": [
    "This roughly 25% performance increase is less than one might expect. However, as seen in the lab `../struct_as_adt`, it appears that `Vec $Value` is superior to ADT representations if it comes to update, which is frequent in Move programs. This advantage seems to have been overtaken by the other improvements of monomorphization. \n",
    "\n",
    "Below are individual verification times:"
   ]
  },
  {
   "cell_type": "code",
   "execution_count": null,
   "id": "surrounded-diving",
   "metadata": {},
   "outputs": [],
   "source": [
    "poly_mod.sort(); // Will also determine order of other samples.\n",
    "plot_benchmarks(&[&poly_mod, &mono_mod])"
   ]
  },
  {
   "cell_type": "markdown",
   "id": "varied-spell",
   "metadata": {},
   "source": [
    "## Top 30 by Function\n",
    "\n",
    "This shows the top 30 regards verification time of individual functions. Functions which timeout or have errors *are* included here (`pragma verify = false` is ignored).\n",
    "\n",
    "Notice that the mono backend resolves all existing timeouts. In the case of `DiemSystem::update_config_and_reconfigure`, an error is quickly produced by the mono backend while the poly backend either timed out or also produced one (as in this run).\n",
    "\n"
   ]
  },
  {
   "cell_type": "code",
   "execution_count": null,
   "id": "extraordinary-coalition",
   "metadata": {},
   "outputs": [],
   "source": [
    "let mut poly_fun = read_benchmark(\"poly_backend.fun_data\")?;\n",
    "let mut mono_fun = read_benchmark(\"mono_backend.fun_data\")?;\n",
    "poly_fun.sort(); // Will also determine order of other samples.\n",
    "poly_fun.take(30);\n",
    "plot_benchmarks(&[&poly_fun, &mono_fun])"
   ]
  },
  {
   "cell_type": "code",
   "execution_count": null,
   "id": "quantitative-maker",
   "metadata": {
    "tags": []
   },
   "outputs": [],
   "source": []
  }
 ],
 "metadata": {
  "kernelspec": {
   "display_name": "Rust",
   "language": "rust",
   "name": "rust"
  },
  "language_info": {
   "codemirror_mode": "rust",
   "file_extension": ".rs",
   "mimetype": "text/rust",
   "name": "Rust",
   "pygment_lexer": "rust",
   "version": ""
  }
 },
 "nbformat": 4,
 "nbformat_minor": 5
}
