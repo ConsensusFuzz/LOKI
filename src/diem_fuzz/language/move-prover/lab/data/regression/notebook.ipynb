{
 "cells": [
  {
   "cell_type": "markdown",
   "id": "positive-liberia",
   "metadata": {},
   "source": [
    "# Performance Regression Analysis\n",
    "\n",
    "This notebook is used to compare the current performance with that of a previously recorded snapshot.\n",
    "\n",
    "*Note*: executing the below cells for the first time after starting the notebook will take long"
   ]
  },
  {
   "cell_type": "code",
   "execution_count": null,
   "id": "informal-british",
   "metadata": {},
   "outputs": [],
   "source": [
    ":sccache 1\n",
    ":dep prover-lab = { path = \"../..\" }"
   ]
  },
  {
   "cell_type": "code",
   "execution_count": null,
   "id": "pursuant-replication",
   "metadata": {},
   "outputs": [],
   "source": [
    "use prover_lab::benchmark::*;"
   ]
  },
  {
   "cell_type": "code",
   "execution_count": null,
   "id": "remarkable-assignment",
   "metadata": {},
   "outputs": [],
   "source": [
    "let mut last = read_benchmark(\"default.last.mod_data\")?;\n",
    "let mut current = read_benchmark(\"default.mod_data\")?;\n",
    "last.sort(); // Will also determine order of other samples.\n",
    "plot_benchmarks(&[&last, &current])"
   ]
  },
  {
   "cell_type": "code",
   "execution_count": null,
   "id": "informational-floor",
   "metadata": {},
   "outputs": [],
   "source": []
  }
 ],
 "metadata": {
  "kernelspec": {
   "display_name": "Rust",
   "language": "rust",
   "name": "rust"
  },
  "language_info": {
   "codemirror_mode": "rust",
   "file_extension": ".rs",
   "mimetype": "text/rust",
   "name": "Rust",
   "pygment_lexer": "rust",
   "version": ""
  }
 },
 "nbformat": 4,
 "nbformat_minor": 5
}
